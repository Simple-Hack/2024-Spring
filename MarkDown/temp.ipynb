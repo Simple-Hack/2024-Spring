{
 "cells": [
  {
   "cell_type": "markdown",
   "metadata": {},
   "source": [
    "#  This is a main title\n",
    "\n",
    "\n",
    "## This is Python code\n",
    "\n",
    "### Python程序\n",
    "\n",
    "```python\n",
    "print(\"Hello world!\")\n",
    "```\n",
    "\n",
    "### C++程序\n",
    "\n",
    "```C++\n",
    "#include <iostream>\n",
    "using namespace std;\n",
    "int main(){\n",
    "    cout<<\"Hello world!\"<<endl;\n",
    "    return 0;\n",
    "}\n",
    "```\n",
    "\n",
    "### Java程序\n",
    "\n",
    "```java\n",
    "console.log(\"Hello world!\");\n",
    "```\n"
   ]
  },
  {
   "cell_type": "code",
   "execution_count": null,
   "metadata": {},
   "outputs": [],
   "source": [
    "a=10\n",
    "c=114\n",
    "print(\"Hello world!\")"
   ]
  }
 ],
 "metadata": {
  "kernelspec": {
   "display_name": "Python 3",
   "language": "python",
   "name": "python3"
  },
  "language_info": {
   "codemirror_mode": {
    "name": "ipython",
    "version": 3
   },
   "file_extension": ".py",
   "mimetype": "text/x-python",
   "name": "python",
   "nbconvert_exporter": "python",
   "pygments_lexer": "ipython3",
   "version": "3.13.0"
  }
 },
 "nbformat": 4,
 "nbformat_minor": 2
}
